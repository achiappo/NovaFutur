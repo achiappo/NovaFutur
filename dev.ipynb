{
 "cells": [
  {
   "cell_type": "markdown",
   "id": "f2f745ca-28bb-4bda-ae8c-f8506d53752b",
   "metadata": {},
   "source": [
    "# Nova Futur Data Scientist Technical Task\n",
    "The purpose of this notebook is to develop a solution for the task."
   ]
  },
  {
   "cell_type": "code",
   "execution_count": 1,
   "id": "5c3481ec-cb02-4184-a09d-a8f657355650",
   "metadata": {},
   "outputs": [],
   "source": [
    "import numpy as np\n",
    "\n",
    "from scipy.spatial import distance\n",
    "\n",
    "import matplotlib.pyplot as plt\n",
    "%matplotlib inline"
   ]
  },
  {
   "cell_type": "markdown",
   "id": "1e59a9cc-6b7e-4864-bb61-34fa71fd5ce4",
   "metadata": {},
   "source": [
    "## First step: read in the input information\n",
    "I build the code to read in the input with the right structure and format."
   ]
  },
  {
   "cell_type": "code",
   "execution_count": 2,
   "id": "e24d458d-c86c-4e33-8635-dfe1d7e6da3d",
   "metadata": {},
   "outputs": [
    {
     "name": "stdout",
     "output_type": "stream",
     "text": [
      "Insert Z-city grid size (N) and number of pizzerias (M)\n"
     ]
    },
    {
     "name": "stdin",
     "output_type": "stream",
     "text": [
      " 5 2\n"
     ]
    },
    {
     "name": "stdout",
     "output_type": "stream",
     "text": [
      "you have chosen a grid size of 5 and 2 of pizzerias\n"
     ]
    }
   ],
   "source": [
    "print('Insert Z-city grid size (N) and number of pizzerias (M)')\n",
    "\n",
    "# clause to take into account wrongly inserted input\n",
    "\n",
    "correct_input = False\n",
    "\n",
    "while not correct_input:\n",
    "\ttry:\n",
    "\t\tN, M = list( map(int, input().split()) )\n",
    "\n",
    "\t\tif N < 0 or N > 1000 or M < 0 or M > 1000:\n",
    "\t\t\tprint('both N and M must be in the range [0, 1000]! retry')\n",
    "\t\t\tcontinue\n",
    "\t\telse:\n",
    "\t\t\tprint(f'you have chosen a grid size of {N} and {M} of pizzerias')\n",
    "\t\t\tcorrect_input = True\n",
    "\n",
    "\texcept ValueError:\n",
    "\t\tprint('input inserted erroneously! correct input example: 100 10')\n",
    "\t\tcontinue"
   ]
  },
  {
   "cell_type": "markdown",
   "id": "1a6e2208-1f67-40c8-8e84-eab56dc073f2",
   "metadata": {},
   "source": [
    "below is the code to flexibly read in the coordinates and distance to the blocks served by each pizzeria"
   ]
  },
  {
   "cell_type": "code",
   "execution_count": 4,
   "id": "15207bfb-6ed3-4e98-a166-ce4e6ed41d22",
   "metadata": {},
   "outputs": [
    {
     "name": "stdout",
     "output_type": "stream",
     "text": [
      "For each pizzeria, please insert its coordinates X,Y and the number K of blocks it serves\n"
     ]
    },
    {
     "name": "stdin",
     "output_type": "stream",
     "text": [
      " 3 3 2\n",
      " 1 1 2\n"
     ]
    },
    {
     "name": "stdout",
     "output_type": "stream",
     "text": [
      "\n",
      "N. pizzeria         X coordinate        Y coordinate        K distance          \n",
      "1                   3                   3                   2                   \n",
      "2                   1                   1                   2                   \n"
     ]
    }
   ],
   "source": [
    "print(\"For each pizzeria, please insert its coordinates X,Y and the number K of blocks it serves\")\n",
    "\n",
    "pizzerias_data = []\n",
    "\n",
    "for m in range(M):\n",
    "\n",
    "\tcorrect_pizzeria_input = False\n",
    "\n",
    "\twhile not correct_pizzeria_input:\n",
    "\n",
    "\t\ttry:\n",
    "\t\t\tX, Y, K = list( map(int, input().split()) )\n",
    "\n",
    "\t\t\tif X < 1 or X > N:\n",
    "\t\t\t\tprint(f'pizzeria coordinate X={X} must be in the range [1, {N}]!')\n",
    "\n",
    "\t\t\telif Y < 1 or Y > N:\n",
    "\t\t\t\tprint(f'pizzeria coordinate Y={Y} must be in the range [1, {N}]!')\n",
    "\n",
    "\t\t\telif K < 1 or K > 1000:\n",
    "\t\t\t\tprint(f'maximum delivery distance K={K} must be in the range [1, 1000]!')\n",
    "\n",
    "\t\t\telse:\n",
    "\t\t\t\tcorrect_pizzeria_input = True\n",
    "\n",
    "\t\texcept ValueError:\n",
    "\t\t\tprint('input inserted erroneously! correct input example: 24 58 12')\n",
    "\t\t\tcontinue\n",
    "\n",
    "\t\tpizzerias_data.append( [X, Y, K] )\n",
    "\n",
    "print(f\"\\n{'N. pizzeria':<20}{'X coordinate':<20}{'Y coordinate':<20}{'K distance':<20}\")\n",
    "\n",
    "for p, (x, y, k) in enumerate(pizzerias_data):\n",
    "\tprint(f\"{p+1:<20}{x:<20}{y:<20}{k:<20}\")"
   ]
  },
  {
   "cell_type": "markdown",
   "id": "2a33df91-f52b-49eb-94da-ac7280933dc3",
   "metadata": {},
   "source": [
    "## Second step: pizzerias serving maps"
   ]
  },
  {
   "cell_type": "code",
   "execution_count": 5,
   "id": "14246417-72bf-4e37-984a-dfb82a0fb669",
   "metadata": {},
   "outputs": [],
   "source": [
    "def get_pizza_delivery_map(N, pizzerias_data):\n",
    "\n",
    "\t# build grid of zeros to count pizzerias serving each city block\n",
    "\tcity_blocks = np.zeros( (N, N), dtype=int )\n",
    "\n",
    "\t# create grid of 2D indices of blocks coordinates\n",
    "\tcity_grid_indices = np.dstack( np.indices( (N, N) ) ).reshape(-1, 2)\n",
    "\n",
    "\t# consider pizzerias in turn\n",
    "\tfor x, y, k in pizzerias_data:\n",
    "\n",
    "\t\t# reduce by one unit to convert coordinates into (Python) array indices\n",
    "\t\tx -= 1\n",
    "\t\ty -= 1\n",
    "\n",
    "\t\t# calculate distances of subgrid blocks to pizzeria's location\n",
    "\t\tpizzeria_distances = distance.cdist(\n",
    "\t\t\tcity_grid_indices, \n",
    "\t\t\t[[x, y]], \n",
    "\t\t\tmetric='cityblock'\n",
    "\t\t).reshape(N, N)\n",
    "\n",
    "\t\t# increase count to blocks reached by pizzeria's delivery\n",
    "\t\tcity_blocks[pizzeria_distances<=k] += 1\n",
    "\t\n",
    "\treturn city_blocks"
   ]
  },
  {
   "cell_type": "code",
   "execution_count": 6,
   "id": "b719b994-de85-416b-b207-655b6f41fd50",
   "metadata": {},
   "outputs": [],
   "source": [
    "delivery_map = get_pizza_delivery_map(N, pizzerias_data)"
   ]
  },
  {
   "cell_type": "markdown",
   "id": "4e0e2ae7-1084-4839-b330-54b3bc2dc4cd",
   "metadata": {},
   "source": [
    "to visualise the counts per block in a human readable format, it's usefull to print the content of the array in reserved order"
   ]
  },
  {
   "cell_type": "code",
   "execution_count": 7,
   "id": "17883ef2-f0ab-4701-b9b9-a97d3d62fcd0",
   "metadata": {},
   "outputs": [
    {
     "name": "stdout",
     "output_type": "stream",
     "text": [
      "0 0 0 1 1 1 1 1 0 0\n",
      "0 0 1 1 2 1 1 1 1 0\n",
      "0 1 1 2 2 2 1 1 1 1\n",
      "1 1 2 2 2 2 2 1 1 1\n",
      "1 2 3 2 2 2 2 2 1 1\n",
      "2 3 3 3 2 2 2 2 2 1\n",
      "3 3 3 3 3 2 2 2 2 2\n",
      "3 3 3 3 3 3 2 2 2 2\n",
      "2 3 3 3 3 3 3 2 2 2\n",
      "2 2 3 3 3 3 2 2 2 1\n"
     ]
    }
   ],
   "source": [
    "for row in delivery_map[::-1]:\n",
    "\tprint(' '.join(str(r) for r in row))"
   ]
  },
  {
   "cell_type": "markdown",
   "id": "e30a3f08-4c4d-4886-944a-b1de02fa245e",
   "metadata": {},
   "source": [
    "Now a simple visualization of the blocks, coloured by the count of pizzerias serving them."
   ]
  },
  {
   "cell_type": "code",
   "execution_count": 8,
   "id": "0ea90a97-844b-4ea7-b211-9f6da15d88c7",
   "metadata": {},
   "outputs": [
    {
     "data": {
      "image/png": "[encoded data removed]",
      "text/plain": [
       "<Figure size 640x480 with 2 Axes>"
      ]
     },
     "metadata": {},
     "output_type": "display_data"
    }
   ],
   "source": [
    "c = plt.pcolor(delivery_map);\n",
    "plt.colorbar(c);"
   ]
  },
  {
   "cell_type": "markdown",
   "id": "53dac5d9-7fca-4018-bbd6-02b503478a88",
   "metadata": {},
   "source": [
    "get the max value by simply calculating the max of the grid"
   ]
  },
  {
   "cell_type": "code",
   "execution_count": 9,
   "id": "933bb6ec-1a49-4ed2-be03-2acc6344548b",
   "metadata": {},
   "outputs": [
    {
     "data": {
      "text/plain": [
       "3"
      ]
     },
     "execution_count": 9,
     "metadata": {},
     "output_type": "execute_result"
    }
   ],
   "source": [
    "delivery_map.max()"
   ]
  },
  {
   "cell_type": "markdown",
   "id": "629b839a-3b48-409f-a662-5c0d83b8112a",
   "metadata": {},
   "source": [
    "## Test\n",
    "For large numbers of N and M, it's very inconvenient to type manually the coordinates and delivery distance of every pizzeria.  \n",
    "To overcome this burden, we can simulate these all numbers."
   ]
  },
  {
   "cell_type": "code",
   "execution_count": 10,
   "id": "3f509600-af1f-49b0-981c-61cb1cf77384",
   "metadata": {},
   "outputs": [],
   "source": [
    "# city size\n",
    "N = np.random.randint(1, 1000)\n",
    "# number of pizzerias\n",
    "M = np.random.randint(1, 1000)\n",
    "\n",
    "pizzerias_data = []\n",
    "\n",
    "for _ in range(M):\n",
    "\n",
    "\tcorrect_pizzeria_input = False\n",
    "\n",
    "\twhile not correct_pizzeria_input:\n",
    "\n",
    "\t\tX, Y, K = np.random.randint(1, high=1000, size=3)\n",
    "\n",
    "\t\tif X < 1 or X > N:\n",
    "\t\t\tcontinue\n",
    "\n",
    "\t\telif Y < 1 or Y > N:\n",
    "\t\t\tcontinue\n",
    "\n",
    "\t\telif K < 1 or K > 1000:\n",
    "\t\t\tcontinue\n",
    "\n",
    "\t\telse:\n",
    "\t\t\tpizzerias_data.append( [X, Y, K] )\n",
    "\t\t\tcorrect_pizzeria_input = True"
   ]
  },
  {
   "cell_type": "markdown",
   "id": "fce3b48e-80c5-4ff1-8d34-1ff7d6ab6eda",
   "metadata": {},
   "source": [
    "Applying the function on these numbers, gives the result of the simulation"
   ]
  },
  {
   "cell_type": "code",
   "execution_count": 11,
   "id": "19f9ed64-d7be-42e3-8ffe-d0257c740aad",
   "metadata": {},
   "outputs": [
    {
     "data": {
      "text/plain": [
       "(90, 416, 398)"
      ]
     },
     "execution_count": 11,
     "metadata": {},
     "output_type": "execute_result"
    }
   ],
   "source": [
    "delivery_map = get_pizza_delivery_map(N, pizzerias_data)\n",
    "\n",
    "N, M, delivery_map.max()"
   ]
  },
  {
   "cell_type": "code",
   "execution_count": 5,
   "id": "b1f606fd-8b47-43e8-9beb-ce52f44d39a0",
   "metadata": {},
   "outputs": [],
   "source": [
    "#def get_pizza_delivery_map(N, pizzerias_data):\n",
    "\n",
    "# build grid of zeros to count pizzerias serving each city block\n",
    "city_blocks = np.zeros( (N, N), dtype=int )\n",
    "\n",
    "\n",
    "# consider pizzerias in turn\n",
    "for x, y, k in pizzerias_data:\n",
    "\n",
    "\t# reduce by one unit to convert coordinates into (Python) array indices\n",
    "\tx -= 1\n",
    "\ty -= 1\n",
    "\n",
    "\t# calculate distances of subgrid blocks to pizzeria's location\n",
    "\tpizzeria_distances = distance.cdist(\n",
    "\t\tcity_grid_indices, \n",
    "\t\t[[x, y]], \n",
    "\t\tmetric='cityblock'\n",
    "\t).reshape(N, N)\n",
    "\n",
    "\t# increase count to blocks reached by pizzeria's delivery\n",
    "\tcity_blocks[pizzeria_distances<=k] += 1\n",
    "\n",
    "#\treturn city_blocks"
   ]
  },
  {
   "cell_type": "code",
   "execution_count": null,
   "id": "61d72bb0-8d60-4aad-8fa1-dec5ba486b7d",
   "metadata": {},
   "outputs": [],
   "source": [
    "def num_covered_blocks(k):\n",
    "\tfunc = lambda 3*k\n",
    "\treturn sum( )"
   ]
  }
 ],
 "metadata": {
  "kernelspec": {
   "display_name": "Python 3 (ipykernel)",
   "language": "python",
   "name": "python3"
  },
  "language_info": {
   "codemirror_mode": {
    "name": "ipython",
    "version": 3
   },
   "file_extension": ".py",
   "mimetype": "text/x-python",
   "name": "python",
   "nbconvert_exporter": "python",
   "pygments_lexer": "ipython3",
   "version": "3.9.10"
  }
 },
 "nbformat": 4,
 "nbformat_minor": 5
}
